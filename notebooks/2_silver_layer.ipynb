{
 "cells": [
  {
   "cell_type": "code",
   "execution_count": null,
   "metadata": {},
   "outputs": [],
   "source": [
    "from pyspark.sql import SparkSession\n",
    "from pyspark.sql.functions import col, when, regexp_extract\n",
    "\n",
    "# Inicializa Spark\n",
    "spark = SparkSession.builder.appName(\"BreweryDataSilver\").getOrCreate()\n",
    "\n",
    "# Le da camada bronze\n",
    "bronze_path = \"/datalake/bronze/breweries/spark/\"\n",
    "silver_path = \"/datalake/silver/breweries/\"\n",
    "\n",
    "df = spark.read.json(bronze_path)\n",
    "\n",
    "# Limpeza e transformacao dos dados\n",
    "cleaned_df = df.withColumn(\"brewery_type\", when(col(\"brewery_type\").isNull(), \"unknown\").otherwise(col(\"brewery_type\"))) \\\n",
    "    .withColumn(\"state\", regexp_extract(col(\"state\"), \"^[A-Z]{2}$\", 0)) \\\n",
    "    .withColumn(\"country\", when(col(\"country\").isNull(), \"United States\").otherwise(col(\"country\")))\n",
    "\n",
    "# Padroniza nomes de paises\n",
    "cleaned_df = cleaned_df.withColumn(\"country\", \n",
    "    when(col(\"country\").isin([\"US\", \"USA\", \"United States\"]), \"United States\")\n",
    "    .otherwise(col(\"country\")))\n",
    "\n",
    "# Particiona por pais e estado\n",
    "cleaned_df.write.mode(\"overwrite\") \\\n",
    "    .partitionBy(\"country\", \"state\") \\\n",
    "    .parquet(f\"{silver_path}breweries_cleaned.parquet\")\n",
    "\n",
    "print(\"Dados transformados e salvos na camada prata\")"
   ]
  }
 ],
 "metadata": {
  "language_info": {
   "name": "python"
  }
 },
 "nbformat": 4,
 "nbformat_minor": 2
}
