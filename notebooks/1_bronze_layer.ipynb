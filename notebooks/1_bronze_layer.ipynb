{
 "cells": [
  {
   "cell_type": "code",
   "execution_count": null,
   "metadata": {},
   "outputs": [],
   "source": [
    "from scripts.api_consumer import BreweryAPIConsumer\n",
    "from pyspark.sql import SparkSession\n",
    "import json\n",
    "\n",
    "# Inicializa a sessao Spark\n",
    "spark = SparkSession.builder.appName(\"BreweryDataBronze\").getOrCreate()\n",
    "\n",
    "# Busca dados da API\n",
    "api_consumer = BreweryAPIConsumer()\n",
    "breweries_data = api_consumer.fetch_all_breweries(max_pages=20)\n",
    "\n",
    "# Salva dados brutos na camada bronze\n",
    "bronze_path = \"/datalake/bronze/breweries\"\n",
    "filename = api_consumer.save_to_bronze(breweries_data, bronze_path)\n",
    "\n",
    "# Salva tambem como DataFrame Spark para rastreamento\n",
    "raw_df = spark.createDataFrame(breweries_data)\n",
    "raw_df.write.mode(\"append\").json(f\"{bronze_path}/spark/\")\n",
    "\n",
    "print(f\"Dados salvos com sucesso na camada bronze em {filename}\")"
   ]
  }
 ],
 "metadata": {
  "language_info": {
   "name": "python"
  }
 },
 "nbformat": 4,
 "nbformat_minor": 2
}
